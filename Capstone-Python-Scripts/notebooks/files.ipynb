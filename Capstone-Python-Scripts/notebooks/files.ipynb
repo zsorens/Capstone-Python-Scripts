{
 "cells": [
  {
   "cell_type": "code",
   "execution_count": 1,
   "id": "745d4564-fe23-455c-b85a-26a7ca148a13",
   "metadata": {},
   "outputs": [
    {
     "data": {
      "text/plain": [
       "True"
      ]
     },
     "execution_count": 1,
     "metadata": {},
     "output_type": "execute_result"
    }
   ],
   "source": [
    "#Code and examples ripped from:\n",
    "#https://learn.microsoft.com/en-us/azure/storage/files/storage-python-how-to-use-file-storage\n",
    "from azure.core.exceptions import (\n",
    "    ResourceExistsError,\n",
    "    ResourceNotFoundError\n",
    ")\n",
    "\n",
    "from azure.storage.fileshare import (\n",
    "    ShareServiceClient,\n",
    "    ShareClient,\n",
    "    ShareDirectoryClient,\n",
    "    ShareFileClient\n",
    ")\n",
    "import os\n",
    "import dotenv\n",
    "os.chdir('../')\n",
    "dotenv.load_dotenv()\n"
   ]
  },
  {
   "cell_type": "code",
   "execution_count": 6,
   "id": "af692fab-20bc-4ea8-9c56-6bac695db044",
   "metadata": {},
   "outputs": [],
   "source": [
    "\n",
    "FILES_CONNECT = os.getenv('FILES_CONNECT')\n",
    "FILES_SHARE = os.getenv(\"FILES_SHARE\")\n",
    "def set_up():\n",
    "    global service_client\n",
    "    global share_client\n",
    "    try:\n",
    "        service_client = ShareServiceClient.from_connection_string(FILES_CONNECT)\n",
    "        share_client = ShareClient.from_connection_string(\n",
    "                FILES_CONNECT, FILES_SHARE)\n",
    "    except Exception as e:\n",
    "        print(\"Error in set up: \", e)"
   ]
  },
  {
   "cell_type": "code",
   "execution_count": 12,
   "id": "f56ea67f-259b-4951-b7cd-a77f4dc2023b",
   "metadata": {},
   "outputs": [],
   "source": [
    "def upload(local_file_path,dest_file_path):\n",
    "    try:\n",
    "        # Create a ShareFileClient from a connection string\n",
    "        file_client = ShareFileClient.from_connection_string(\n",
    "            FILES_CONNECT, FILES_SHARE, dest_file_path)\n",
    "        source_file = open(local_file_path, \"rb\")\n",
    "        data = source_file.read()\n",
    "\n",
    "        file_client.upload_file(data)\n",
    "\n",
    "    except ResourceExistsError as ex:\n",
    "        print(\"ResourceExistsError:\", ex.message)\n",
    "\n",
    "    except ResourceNotFoundError as ex:\n",
    "        print(\"ResourceNotFoundError:\", ex.message)\n",
    "def ls(dir_name):\n",
    "    try:\n",
    "        for item in list(share_client.list_directories_and_files(dir_name)):\n",
    "            if item[\"is_directory\"]:\n",
    "                print(\"Directory:\", item[\"name\"])\n",
    "            else:\n",
    "                print(\"File:\", dir_name + \"/\" + item[\"name\"])\n",
    "\n",
    "    except ResourceNotFoundError as ex:\n",
    "        print(\"ResourceNotFoundError:\", ex.message)\n",
    "def delete(self, connection_string, file_path):\n",
    "    try:\n",
    "        # Create a ShareFileClient from a connection string\n",
    "        file_client = ShareFileClient.from_connection_string(\n",
    "            FILES_CONNECT, FILES_SHARE, file_path)\n",
    "\n",
    "        print(\"Deleting file:\", share_name + \"/\" + file_path)\n",
    "\n",
    "        # Delete the file\n",
    "        file_client.delete_file()\n",
    "\n",
    "    except ResourceNotFoundError as ex:\n",
    "        print(\"ResourceNotFoundError:\", ex.message)\n"
   ]
  },
  {
   "cell_type": "code",
   "execution_count": 16,
   "id": "72299e27-8c94-489d-80d9-fd6c02044749",
   "metadata": {},
   "outputs": [],
   "source": []
  },
  {
   "cell_type": "code",
   "execution_count": 13,
   "id": "242fb913-16ea-459f-bcd3-7265bc466168",
   "metadata": {},
   "outputs": [],
   "source": [
    "ls('')\n",
    "upload('streetview_images/ChIJF5LWpPJxaYgRclDhS0Rjkck.jpg', 'test1.jpg')"
   ]
  },
  {
   "cell_type": "code",
   "execution_count": 14,
   "id": "bed20049-38e4-4186-835c-10f0c1533a9c",
   "metadata": {},
   "outputs": [
    {
     "name": "stdout",
     "output_type": "stream",
     "text": [
      "File: /test1.jpg\n"
     ]
    }
   ],
   "source": [
    "ls('')"
   ]
  },
  {
   "cell_type": "code",
   "execution_count": 8,
   "id": "65a5291e-7647-4ed6-98f7-7f4a3fa25f72",
   "metadata": {},
   "outputs": [],
   "source": [
    "if __name__ == '__main__':\n",
    "    set_up()"
   ]
  },
  {
   "cell_type": "code",
   "execution_count": null,
   "id": "58a126d0-c22e-4987-b4de-86b75462005e",
   "metadata": {},
   "outputs": [],
   "source": []
  }
 ],
 "metadata": {
  "kernelspec": {
   "display_name": "Python 3 (ipykernel)",
   "language": "python",
   "name": "python3"
  },
  "language_info": {
   "codemirror_mode": {
    "name": "ipython",
    "version": 3
   },
   "file_extension": ".py",
   "mimetype": "text/x-python",
   "name": "python",
   "nbconvert_exporter": "python",
   "pygments_lexer": "ipython3",
   "version": "3.9.12"
  }
 },
 "nbformat": 4,
 "nbformat_minor": 5
}
