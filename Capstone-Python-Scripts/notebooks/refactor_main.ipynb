{
 "cells": [
  {
   "cell_type": "code",
   "execution_count": 1,
   "id": "332070a8-df19-4ce6-babd-786b692ac30e",
   "metadata": {},
   "outputs": [],
   "source": [
    "import argparse\n",
    "from google.cloud import vision\n",
    "import os\n",
    "import sys\n",
    "\n",
    "from detect_text import any_text_triggering\n",
    "from places import get_places,  get_place_details,  load_zipcodes, get_place_photo\n",
    "from streetview import get_streetview_image\n",
    "from store import Store\n",
    "from vision import extract_image_text\n",
    "import files\n",
    "import sql"
   ]
  },
  {
   "cell_type": "code",
   "execution_count": 2,
   "id": "efc3b5fd-fb78-4a15-99a3-23b88280f2aa",
   "metadata": {},
   "outputs": [],
   "source": [
    "\n",
    "def load_text(path):\n",
    "    with open(path, 'r') as f:\n",
    "        data = f.read().split('\\n')\n",
    "    return data"
   ]
  },
  {
   "cell_type": "code",
   "execution_count": 24,
   "id": "d18cf06b-6372-4c13-960e-ab65d96d9f29",
   "metadata": {},
   "outputs": [
    {
     "data": {
      "text/plain": [
       "True"
      ]
     },
     "execution_count": 24,
     "metadata": {},
     "output_type": "execute_result"
    }
   ],
   "source": [
    "type([]) == list"
   ]
  },
  {
   "cell_type": "code",
   "execution_count": 14,
   "id": "00265d9c-e260-4400-9526-098e5fd1c078",
   "metadata": {},
   "outputs": [],
   "source": [
    "def _get_place_details(store: Store, verbose = False) -> Store:\n",
    "    if verbose:\n",
    "        print('Retrieving advanced details...', end='')\n",
    "        sys.stdout.flush()\n",
    "    details = get_place_details(store.place['place_id'])\n",
    "    if details is None:\n",
    "        if verbose:\n",
    "            print('ERROR: Failed to retrieve details for place', store.place['place_id'], end = '')\n",
    "            sys.stdout.flush()\n",
    "    # Cheating: checks if details is None first, if false then it won't run next conditional so we won't get erro\n",
    "    # Or atleast my version of python - Alvin\n",
    "    store.photos = details['photos'] if details and 'photos' in details else []\n",
    "    store.reviews = details['reviews'] if details and 'reviews' in details else []\n",
    "    store.website = details['website'] if  details and'website' in details else None\n",
    "    if verbose:\n",
    "        print('Done')\n",
    "    return store"
   ]
  },
  {
   "cell_type": "code",
   "execution_count": null,
   "id": "a053df3a-dd04-41d6-8c3b-21066733c1ba",
   "metadata": {},
   "outputs": [],
   "source": [
    "def _get_streetview_image(store: Store, images_dir: str, verbose = False) -> Store:\n",
    "    if verbose:\n",
    "        print('Getting streetview images... ', end='')\n",
    "        sys.stdout.flush()\n",
    "    # Make directory to temporarily store data\n",
    "    if not os.path.isdir(images_dir): \n",
    "        os.mkdir(images_dir)\n",
    "    image = get_streetview_image(store.place['formatted_address'])\n",
    "    if image is None:\n",
    "        name = place['name']\n",
    "        if verbose:\n",
    "            print(f'ERROR: Unable to retrieve streetview image for {name}', end='')\n",
    "            \n",
    "    else:\n",
    "        image_path = '{dir}/{place_id}.jpg'.format(\n",
    "        dir=images_dir,\n",
    "        place_id=store.place['place_id'])\n",
    "        with open(image_path, 'wb') as f:\n",
    "            f.write(image)\n",
    "    store.image_path = image_path if image else None\n",
    "    if verbose:\n",
    "        print('Done')\n",
    "        sys.stdout.flush()\n",
    "def _get_review_image(store:Store, images_dir: str, verbose = False) -> Store:\n",
    "    if verbose:\n",
    "        print(f'Getting review images...', end = '')\n",
    "        sys.stdout.flush()\n",
    "    if not store.photos: # Photos are retrieved from _get_place_details, will not work prior.\n",
    "        print(f'No list of photos in store.photos, Skipping')\n",
    "        store.review_images_dir = None\n",
    "        return store\n",
    "    review_images_dir = f\"{images_dir}/{store.place['place_id']}\"\n",
    "    if not os.path.isdir(review_images_dir):\n",
    "        os.mkdir(review_images_dir)\n",
    "    store.review_images_dir = review_images_dir\n",
    "    for photo in store.photos:\n",
    "        image_review = get_place_photo(photo['photo_reference'])\n",
    "        image_path = '{review_images_dir}/{photo_id}.jpg'.format(\n",
    "                review_images_dir = review_images_dir,\n",
    "                photo_id=photo['photo_reference'])\n",
    "        with open(image_path, 'wb') as f:\n",
    "            f.write(image_review)\n",
    "    if verbose:\n",
    "        print(f'Done')\n",
    "    return store"
   ]
  },
  {
   "cell_type": "code",
   "execution_count": null,
   "id": "181fcd90-b527-4e51-9353-b73618c7ab3e",
   "metadata": {},
   "outputs": [],
   "source": [
    "# Currently, the review images are not used for text extraction\n",
    "def _extract_image_text(store: Store, reviews = False, verbose = False) -> Store:\n",
    "    if verbose:\n",
    "        print('Extracting text from images... ', end='')\n",
    "    sys.stdout.flush()\n",
    "    if store.image_path:\n",
    "        store.image_text = extract_image_text(store.image_path)\n",
    "    else:\n",
    "        if verbose:\n",
    "            print(\"No image path...\", end='')\n",
    "        store.image_text = ''\n",
    "    if reviews:\n",
    "        pass\n",
    "    if verbose:\n",
    "        print(f'Done')\n",
    "    return store"
   ]
  },
  {
   "cell_type": "code",
   "execution_count": null,
   "id": "397bf1cd-64af-4a75-bd72-095b94810620",
   "metadata": {},
   "outputs": [],
   "source": [
    "def _triggering(store: Store, verbose = False) -> Store:\n",
    "    # Check descriptions against trigger words\n",
    "    if verbose:\n",
    "        print('Checking if store names or extracted text is triggering...', end='')\n",
    "        sys.stdout.flush()\n",
    "    # Writing descriptions to file for testing review\n",
    "    desc_file = open('descriptions.txt', 'w', encoding='utf-8')\n",
    "    \n",
    "    name = store.place['name']\n",
    "    descriptions = store.image_text[1:] #The first index is a the unparsed string, white [1:n] is that same string, split by \\n.\n",
    "    \n",
    "    strings = [name] + descriptions + sum([x['text'].split(' ') for x in store.reviews], [])\n",
    "    # Writing to file for review while testing\n",
    "    desc_file.write(','.join(strings) + '\\n')\n",
    "    store.is_triggering = any_text_triggering(strings, trigger_phrases)\n",
    "    desc_file.close()\n",
    "    if verbose:\n",
    "        print(f'Done')\n",
    "    return store"
   ]
  },
  {
   "cell_type": "code",
   "execution_count": 4,
   "id": "ddb3c385-8075-4153-9831-578350ee790e",
   "metadata": {},
   "outputs": [
    {
     "ename": "SyntaxError",
     "evalue": "invalid syntax (80885382.py, line 2)",
     "output_type": "error",
     "traceback": [
      "\u001b[1;36m  Input \u001b[1;32mIn [4]\u001b[1;36m\u001b[0m\n\u001b[1;33m    if store.\u001b[0m\n\u001b[1;37m             ^\u001b[0m\n\u001b[1;31mSyntaxError\u001b[0m\u001b[1;31m:\u001b[0m invalid syntax\n"
     ]
    }
   ],
   "source": [
    "# # # #\n",
    "# Assumes Store has an associated place_id\n",
    "def _process_store(store: Store, images_dir: str, trigger_phrases: list, reviews_image_text = False, options = 0b11111, verbose = False) -> Store:\n",
    "    assert(store.place) # Makes sure we don't have a null place\n",
    "    \n",
    "    # # # #\n",
    "    # \n",
    "    # https://stackoverflow.com/questions/54342884/check-if-multiple-bits-are-set-or-cleared\n",
    "    if(options & 0b10000):\n",
    "        store = _get_place_details(store, verbose)\n",
    "    if(options & 0b01000): # Doesn't need details\n",
    "        store = _get_streetview_image(store, images_dir, verbose)\n",
    "    if((options | ~0b10100) == ~0): #Needs detials to get list og photos\n",
    "        store = _get_review_image(store, images_dir, verbose)\n",
    "    if((options | ~0b01010) == ~0 or (options | ~0b00110) == ~0): # Need street_view or review images\n",
    "        store = _extract_image_text(store, reviews_image_text ,verbose)\n",
    "\n",
    "    store = _triggering(store, trigger_phrases, verbose)\n",
    "\n",
    "    return store\n"
   ]
  },
  {
   "cell_type": "code",
   "execution_count": null,
   "id": "de1af8d9-5eff-4309-9188-ace3189cb329",
   "metadata": {},
   "outputs": [],
   "source": [
    "if __name__ == '__main__':\n",
    "    # Functional Arguments\n",
    "    parser = argparse.ArgumentParser(description='Pipeline produced by Fall 2023 UofL Capstone Team for Tobacco Permits')\n",
    "    parser.add_argument('-i', '--images_dir', action='store', default='streetview_images', dest = 'images_dir',\n",
    "                        help='Directory to save Google Streetview Images to')\n",
    "    parser.add_argument('-z', '--zip_codes', action='store', default = 'louisville_metro_zipcodes.txt', dest='zip_codes',\n",
    "                        help='.txt file to read in selected zipcodes to run algorithm for.')\n",
    "    parser.add_argument('-s','--store_types', action = 'store', default= 'store_types.txt', dest = 'store_types',\n",
    "                        help='Types of stores to be identified using google places.')\n",
    "    parser.add_argument('-t','--trigger_phrases', action = 'store', default= 'trigger_phrases.txt', dest = 'trigger_phrases',\n",
    "                        help='Words that are algorithm will look for to \\\"Flag\\\" a store.')\n",
    "    # Testing Arguments\n",
    "    # TO-DO: Change \"real\" to be a limit\n",
    "    parser.add_argument('-r', '--real', action = 'store_true', dest = 'real',\n",
    "                        help = 'Run algorithm on entire dataset over just 1 value')\n",
    "    parser.add_argument('-v', '--verbose', action = 'store_true', dest = 'verbose',\n",
    "                        help ='Be verbose (print statements)')\n",
    "    parser.add_argument('-l', '--logging', action = 'store_true',  dest = 'logging',\n",
    "                        help ='Log progress data')\n",
    "    parser.add_argument('-ld', '--log_dir', action = 'store', default = 'logs' , dest='log_dir',\n",
    "                        help = 'Where to log')\n",
    "    parser.add_argument('-c', '--cache', action = 'store_true', dest='cache',\n",
    "                        help = 'Save data into database and filese')\n",
    "    parser.add_argument('-sd', '--store_dir', action = 'store', default = 'store_data', dest = 'store_dir',\n",
    "                        help='If caching, where to save store data')\n",
    "    # PULLING ARGS\n",
    "    #\n",
    "    #\n",
    "    #\n",
    "    args = parser.parse_args()\n",
    "    images_dir = args.images_dir\n",
    "    zipcodes = load_text(args.zip_codes)\n",
    "    store_types = load_text(args.store_types)\n",
    "    trigger_phrases = load_text(args.trigger_phrases)\n",
    "\n",
    "    # Get places for all store types in all zipcodes\n",
    "    if args.verbose:\n",
    "        print('Getting places... ', end='')\n",
    "    print('Full version:', args.real)\n",
    "    sys.stdout.flush()"
   ]
  },
  {
   "cell_type": "markdown",
   "id": "a7d7b10e-77d3-4f18-ba7c-21cf2c3b9ccd",
   "metadata": {},
   "source": [
    "# Testing"
   ]
  },
  {
   "cell_type": "code",
   "execution_count": 1,
   "id": "6871e7b8-c76c-45fa-b21f-4b9a4af8bb20",
   "metadata": {},
   "outputs": [],
   "source": [
    "import main"
   ]
  },
  {
   "cell_type": "code",
   "execution_count": 22,
   "id": "53e757ef-3922-4c46-8bff-f2b7ae223d4a",
   "metadata": {},
   "outputs": [
    {
     "data": {
      "text/plain": [
       "True"
      ]
     },
     "execution_count": 22,
     "metadata": {},
     "output_type": "execute_result"
    }
   ],
   "source": [
    "any([True, None])"
   ]
  },
  {
   "cell_type": "code",
   "execution_count": 1,
   "id": "8fe7ec69-f72c-4ff6-a65f-34a31062fe14",
   "metadata": {},
   "outputs": [
    {
     "data": {
      "text/plain": [
       "-1"
      ]
     },
     "execution_count": 1,
     "metadata": {},
     "output_type": "execute_result"
    }
   ],
   "source": [
    "#https://stackoverflow.com/questions/54342884/check-if-multiple-bits-are-set-or-cleared\n",
    "options = 0b11101\n",
    "(options | ~0b10100 )"
   ]
  },
  {
   "cell_type": "code",
   "execution_count": 2,
   "id": "69e15392-7492-4631-9524-779bae68e75e",
   "metadata": {},
   "outputs": [],
   "source": [
    "stores = main.get_stores(['40214'],['smoke'])\n",
    "stores[0] = main._process_store(stores[0], 'streetview_images', main.load_text('trigger_phrases.txt'),\n",
    "                                False, 0b11101, False)"
   ]
  },
  {
   "cell_type": "code",
   "execution_count": 3,
   "id": "cefcc2ca-a82f-40e4-a4fd-28eef1e68296",
   "metadata": {},
   "outputs": [
    {
     "name": "stdout",
     "output_type": "stream",
     "text": [
      "Store: Third Smoking Shop\n",
      ",\n",
      "              len(photos): 10 \n",
      ",\n",
      "              image_path: streetview_images/ChIJI9HPiX8NaYgR46NU1o0A8Q0.jpg\n",
      ",\n",
      "              image_text: None\n",
      ",\n",
      "              is_triggering: True\n",
      ",\n",
      "              len(reviews): 5\n",
      ",\n",
      "              website: None\n"
     ]
    }
   ],
   "source": [
    "print(stores[0])"
   ]
  },
  {
   "cell_type": "code",
   "execution_count": 4,
   "id": "68f78b49-64ae-4190-b111-dda44899dc16",
   "metadata": {},
   "outputs": [
    {
     "data": {
      "text/plain": [
       "[<store.Store at 0x1827da74250>,\n",
       " <store.Store at 0x1827da74100>,\n",
       " <store.Store at 0x1827bca4a30>,\n",
       " <store.Store at 0x1827bca4520>,\n",
       " <store.Store at 0x1827bca4e80>,\n",
       " <store.Store at 0x1827f4f3550>,\n",
       " <store.Store at 0x1827cce3be0>,\n",
       " <store.Store at 0x1827cce3d60>,\n",
       " <store.Store at 0x1827f699e80>,\n",
       " <store.Store at 0x1827f699d60>,\n",
       " <store.Store at 0x1827f699ca0>,\n",
       " <store.Store at 0x1827f699e50>,\n",
       " <store.Store at 0x1827bc907f0>,\n",
       " <store.Store at 0x1827bc90f70>,\n",
       " <store.Store at 0x1827bc90fd0>,\n",
       " <store.Store at 0x1827bc155b0>,\n",
       " <store.Store at 0x1827bc154f0>,\n",
       " <store.Store at 0x1827bc151f0>,\n",
       " <store.Store at 0x1827bc15670>,\n",
       " <store.Store at 0x1827bc157f0>]"
      ]
     },
     "execution_count": 4,
     "metadata": {},
     "output_type": "execute_result"
    }
   ],
   "source": [
    " main.get_stores(['louisville'],['smoke'])"
   ]
  },
  {
   "cell_type": "code",
   "execution_count": 8,
   "id": "62317240-f411-47c4-a630-29090d67f2e0",
   "metadata": {},
   "outputs": [
    {
     "name": "stdout",
     "output_type": "stream",
     "text": [
      "test\\images\\cigarette_wall_display.jpg\n",
      "test\\images\\fat_rabbit.jpg\n",
      "test\\images\\gas_station_outside.jpg\n",
      "test\\images\\vape_shop_counter_01.jpg\n",
      "test\\images\\wave_ad_outside_of_corner_store.jpg\n"
     ]
    }
   ],
   "source": [
    "import os\n",
    "for root, dirs, files in os.walk('test'):\n",
    "    for name in files:\n",
    "        print(os.path.join(root, name))\n"
   ]
  },
  {
   "cell_type": "code",
   "execution_count": 19,
   "id": "7c942db7-de25-43fd-bbfe-a831ffdc8082",
   "metadata": {},
   "outputs": [
    {
     "name": "stdout",
     "output_type": "stream",
     "text": [
      "10\n",
      "9\n",
      "8\n",
      "7\n",
      "6\n",
      "5\n",
      "4\n",
      "3\n",
      "2\n",
      "1\n"
     ]
    }
   ],
   "source": [
    "i = 10\n",
    "while True:\n",
    "    print(i)\n",
    "    if i:\n",
    "        i -= 1\n",
    "        if i == 0: break \n",
    "        else:  pass\n",
    "        "
   ]
  }
 ],
 "metadata": {
  "kernelspec": {
   "display_name": "Python 3 (ipykernel)",
   "language": "python",
   "name": "python3"
  },
  "language_info": {
   "codemirror_mode": {
    "name": "ipython",
    "version": 3
   },
   "file_extension": ".py",
   "mimetype": "text/x-python",
   "name": "python",
   "nbconvert_exporter": "python",
   "pygments_lexer": "ipython3",
   "version": "3.9.12"
  }
 },
 "nbformat": 4,
 "nbformat_minor": 5
}
