{
 "cells": [
  {
   "cell_type": "code",
   "execution_count": 1,
   "id": "da4c7a32-5c29-452b-9873-516990064467",
   "metadata": {},
   "outputs": [],
   "source": [
    "import pyodbc\n",
    "import dotenv\n",
    "import os\n",
    "import sys\n",
    "import pandas as pd\n",
    "\n",
    "os.chdir('../')\n",
    "dotenv.load_dotenv()\n",
    "import sql\n",
    "from places import get_places\n",
    "from store import Store"
   ]
  },
  {
   "cell_type": "code",
   "execution_count": 2,
   "id": "4640906a-6863-40f8-a423-ab441d6da381",
   "metadata": {},
   "outputs": [],
   "source": [
    "from defaults import *\n",
    "stores = []\n",
    "zipcodes = zipcodes[:1]\n",
    "store_types = store_types[:1]\n",
    "for zipcode in zipcodes:\n",
    "    for store_type in store_types:\n",
    "        query = f'{store_type}+in+{zipcode}'\n",
    "        for place in get_places(query):\n",
    "            stores.append(Store(place))"
   ]
  },
  {
   "cell_type": "code",
   "execution_count": 3,
   "id": "cf88c8a9-892f-4e4f-bc93-b11ce4925df3",
   "metadata": {},
   "outputs": [],
   "source": [
    "sql.set_up()\n",
    "#sql.store_to_db(stores[0])\n",
    "stores[0].is_triggering= True\n",
    "sql.store_flag(stores[0])"
   ]
  },
  {
   "cell_type": "markdown",
   "id": "9f79b8be-3c46-4101-9b93-2897e8f0d823",
   "metadata": {},
   "source": [
    "# In notebook testing to produce function "
   ]
  },
  {
   "cell_type": "code",
   "execution_count": 4,
   "id": "9b07646b-584f-4172-8913-f23332f31006",
   "metadata": {},
   "outputs": [
    {
     "data": {
      "text/plain": [
       "<sqlalchemy.engine.cursor.CursorResult at 0x22776d9ebe0>"
      ]
     },
     "execution_count": 4,
     "metadata": {},
     "output_type": "execute_result"
    }
   ],
   "source": [
    "from sqlalchemy import text\n",
    "sql.set_up()\n",
    "place = stores[0].place\n",
    "query = f'''MERGE INTO stores\n",
    "USING ( VALUES(\\'{place['place_id']}\\')) AS source (place_id)\n",
    "ON stores.place_id = source.place_id\n",
    "WHEN MATCHED THEN\n",
    "UPDATE SET last_updated = GETDATE() AT TIME ZONE 'UTC'\n",
    "WHEN NOT MATCHED THEN\n",
    "INSERT (place_id)\n",
    "VALUES (\\'{place['place_id']}\\');'''.replace('\\n',' ')\n",
    "sql.conn.execute(text(query))"
   ]
  },
  {
   "cell_type": "code",
   "execution_count": 5,
   "id": "bacb3046-abb1-43de-b201-b1f689d66673",
   "metadata": {},
   "outputs": [],
   "source": [
    "sql.conn.commit()"
   ]
  },
  {
   "cell_type": "code",
   "execution_count": 6,
   "id": "dd685993-5594-4e4c-85b7-2bee37f055db",
   "metadata": {},
   "outputs": [
    {
     "data": {
      "text/plain": [
       "['__class__',\n",
       " '__delattr__',\n",
       " '__dict__',\n",
       " '__dir__',\n",
       " '__doc__',\n",
       " '__eq__',\n",
       " '__format__',\n",
       " '__ge__',\n",
       " '__getattribute__',\n",
       " '__gt__',\n",
       " '__hash__',\n",
       " '__init__',\n",
       " '__init_subclass__',\n",
       " '__le__',\n",
       " '__lt__',\n",
       " '__module__',\n",
       " '__ne__',\n",
       " '__new__',\n",
       " '__reduce__',\n",
       " '__reduce_ex__',\n",
       " '__repr__',\n",
       " '__setattr__',\n",
       " '__sizeof__',\n",
       " '__str__',\n",
       " '__subclasshook__',\n",
       " '__weakref__',\n",
       " 'image_path',\n",
       " 'image_text',\n",
       " 'is_triggering',\n",
       " 'photos',\n",
       " 'place',\n",
       " 'reviews',\n",
       " 'save',\n",
       " 'website']"
      ]
     },
     "execution_count": 6,
     "metadata": {},
     "output_type": "execute_result"
    }
   ],
   "source": [
    "dir(stores[0])"
   ]
  },
  {
   "cell_type": "code",
   "execution_count": 19,
   "id": "f373f84c-7026-470f-8e35-cb8732c54929",
   "metadata": {},
   "outputs": [],
   "source": [
    "\n",
    "# Need Update with additional flags\n",
    "# Right now working with is_triggering to set flag_text\n",
    "def store_update(s: Store):\n",
    "    # Only update when one of the flags are True\n",
    "    if s.is_triggering == True:\n",
    "        query = f'''UPDATE stores \n",
    "        SET last_flagged = GETDATE() AT TIME ZONE 'UTC',\n",
    "        flag_text = {int(s.is_triggering) if s.is_triggering else 0}\n",
    "        WHERE place_id=\\'{s.place['place_id']}\\''''\n",
    "        conn.execute(text(query))\n",
    "        conn.commit()"
   ]
  },
  {
   "cell_type": "code",
   "execution_count": 16,
   "id": "bbbb62ce-7a44-4cdf-ab14-38189488280f",
   "metadata": {},
   "outputs": [],
   "source": [
    "s=stores[0]\n",
    "s.is_triggering = False\n",
    "query = f'''UPDATE stores \n",
    "SET last_flagged = GETDATE() AT TIME ZONE 'UTC',\n",
    "flag_text = {int(s.is_triggering) if s.is_triggering else 0}\n",
    "WHERE place_id=\\'{s.place['place_id']}\\''''\n",
    "sql.conn.execute(sql.text(query))\n",
    "sql.conn.commit()"
   ]
  },
  {
   "cell_type": "code",
   "execution_count": 17,
   "id": "c27a91e6-0901-4915-9fa5-a5f6ddbafccc",
   "metadata": {},
   "outputs": [
    {
     "data": {
      "text/plain": [
       "False"
      ]
     },
     "execution_count": 17,
     "metadata": {},
     "output_type": "execute_result"
    }
   ],
   "source": [
    "None == True"
   ]
  },
  {
   "cell_type": "code",
   "execution_count": 5,
   "id": "be306e2b-a1b8-46f9-8cad-5141a5440857",
   "metadata": {},
   "outputs": [],
   "source": [
    "pd.read_sql('SELECT * FROM [dbo].[raw_permit]', sql.conn)"
   ]
  },
  {
   "cell_type": "raw",
   "id": "5c65b22a-389b-4259-8e7a-13c894741f20",
   "metadata": {},
   "source": []
  }
 ],
 "metadata": {
  "kernelspec": {
   "display_name": "Python 3 (ipykernel)",
   "language": "python",
   "name": "python3"
  },
  "language_info": {
   "codemirror_mode": {
    "name": "ipython",
    "version": 3
   },
   "file_extension": ".py",
   "mimetype": "text/x-python",
   "name": "python",
   "nbconvert_exporter": "python",
   "pygments_lexer": "ipython3",
   "version": "3.9.12"
  }
 },
 "nbformat": 4,
 "nbformat_minor": 5
}
