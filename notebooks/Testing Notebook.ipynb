{
 "cells": [
  {
   "cell_type": "code",
   "execution_count": 1,
   "id": "fd5e6543-e82b-490c-9658-68f048119fd0",
   "metadata": {
    "slideshow": {
     "slide_type": "skip"
    },
    "tags": []
   },
   "outputs": [],
   "source": [
    "import os\n",
    "os.chdir('../')\n",
    "from google.cloud import vision\n",
    "import sys\n",
    "\n",
    "from detect_text import any_text_triggering\n",
    "from places import get_places, get_place_details, load_zipcodes\n",
    "from streetview import get_streetview_image\n",
    "from store import Store\n",
    "from vision import extract_image_text\n"
   ]
  },
  {
   "cell_type": "code",
   "execution_count": 2,
   "id": "53167efc-2991-4836-9d0f-5371d6e4e1a8",
   "metadata": {},
   "outputs": [],
   "source": [
    "from main import load_text"
   ]
  },
  {
   "cell_type": "code",
   "execution_count": 3,
   "id": "5cdb76ee-55d5-4b85-b9a4-220e68ee1cb3",
   "metadata": {},
   "outputs": [],
   "source": [
    "zipcodes = load_text('louisville_metro_zipcodes.txt')\n",
    "store_types = load_text('store_types.txt')\n",
    "trigger_phrases = load_text('trigger_phrases.txt')\n",
    "images_dir = 'streetview_images'"
   ]
  },
  {
   "cell_type": "code",
   "execution_count": 4,
   "id": "2b9481d4-c0d6-489c-9728-f0c420cbe35f",
   "metadata": {},
   "outputs": [],
   "source": [
    "## \n",
    "# Single Select\n",
    "store_types = ['tobacco']\n",
    "zipcodes = [40214]"
   ]
  },
  {
   "cell_type": "code",
   "execution_count": 21,
   "id": "423b0b73-78a1-48ea-80b6-04d9412d1430",
   "metadata": {},
   "outputs": [],
   "source": [
    "stores = []\n",
    "for zipcode in zipcodes:\n",
    "    for store_type in store_types:\n",
    "        query = f'{store_type}+in+{zipcode}'\n",
    "        for place in get_places(query):\n",
    "            stores.append(Store(place))"
   ]
  },
  {
   "cell_type": "code",
   "execution_count": 29,
   "id": "98fd430b-d17f-4aae-beba-6469627445a1",
   "metadata": {},
   "outputs": [
    {
     "data": {
      "text/plain": [
       "{'reviews': [{'author_name': 'Jennifer Carroll',\n",
       "   'author_url': 'https://www.google.com/maps/contrib/106421652499158140864/reviews',\n",
       "   'language': 'en',\n",
       "   'original_language': 'en',\n",
       "   'profile_photo_url': 'https://lh3.googleusercontent.com/a-/ALV-UjXSETED82zOmyWocxncdkC_ajJIql5y_8qyZtF5-De9gCE=s128-c0x00000000-cc-rp-mo-ba4',\n",
       "   'rating': 5,\n",
       "   'relative_time_description': '2 years ago',\n",
       "   'text': 'Friendly and very helpful staff! Large selection of items and very reasonable prices. Will definitely visit again and also recommend to anyone I know.',\n",
       "   'time': 1621715682,\n",
       "   'translated': False},\n",
       "  {'author_name': 'John Burkhead',\n",
       "   'author_url': 'https://www.google.com/maps/contrib/104834117798754362960/reviews',\n",
       "   'profile_photo_url': 'https://lh3.googleusercontent.com/a-/ALV-UjVoNyRglgnN26OG7y-To76jv5qpKpqoI855ioK41yz43X8=s128-c0x00000000-cc-rp-mo-ba3',\n",
       "   'rating': 4,\n",
       "   'relative_time_description': '8 months ago',\n",
       "   'text': '',\n",
       "   'time': 1673679936,\n",
       "   'translated': False}]}"
      ]
     },
     "execution_count": 29,
     "metadata": {},
     "output_type": "execute_result"
    }
   ],
   "source": [
    "details"
   ]
  },
  {
   "cell_type": "code",
   "execution_count": 33,
   "id": "a26e1225-b511-4f91-a0ea-04a4470bdce5",
   "metadata": {},
   "outputs": [],
   "source": [
    "for store in stores:\n",
    "    details = get_place_details(store.place['place_id'])\n",
    "    if details is None:\n",
    "        if args.verbose:\n",
    "            print('ERROR: Failed to retrieve details for place', store.place['place_id'])\n",
    "        continue\n",
    "    store.photos = details['photos'] if 'photos' in details else []\n",
    "    store.reviews = details['reviews'] if 'reviews' in details else []\n",
    "    if 'website' in details:\n",
    "        store.website = details['website']"
   ]
  },
  {
   "cell_type": "code",
   "execution_count": 42,
   "id": "836b8e1c-1151-4f34-a813-d7f22da04a42",
   "metadata": {},
   "outputs": [],
   "source": [
    "for store in stores:\n",
    "    review_images_dir = f\"{images_dir}/{store.place['place_id']}\"\n",
    "    if not os.path.isdir(review_images_dir):\n",
    "        os.mkdir(review_images_dir)\n",
    "    for photo in store.photos:\n",
    "        image_review = get_place_photo(photo['photo_reference'])\n",
    "        image_path = '{review_images_dir}/{photo_id}.jpg'.format(\n",
    "                review_images_dir = review_images_dir,\n",
    "                photo_id=photo['photo_reference'])\n",
    "        with open(image_path, 'wb') as f:\n",
    "            f.write(image_review)\n",
    "        store.review_images = review_images_dir\n"
   ]
  },
  {
   "cell_type": "code",
   "execution_count": 38,
   "id": "b420c798-19e8-4503-8e1b-d75854507f7e",
   "metadata": {},
   "outputs": [],
   "source": [
    "#details['photos']\n",
    "import requests\n",
    "def get_place_photo(photo_id, max_width = 640):\n",
    "    api_key = os.getenv('MAPS_API_KEY')\n",
    "    base_url = f'https://maps.googleapis.com/maps/api/place/photo?maxwidth={max_width}'\n",
    "    url = f'{base_url}&photo_reference={photo_id}&key={api_key}'\n",
    "    resp = requests.get(url)\n",
    "    if resp.status_code != 200:\n",
    "        print(f'ERROR: request to Maps Places API failed with status code {resp.status_code}')\n",
    "    return resp.content\n"
   ]
  }
 ],
 "metadata": {
  "kernelspec": {
   "display_name": "Python 3 (ipykernel)",
   "language": "python",
   "name": "python3"
  },
  "language_info": {
   "codemirror_mode": {
    "name": "ipython",
    "version": 3
   },
   "file_extension": ".py",
   "mimetype": "text/x-python",
   "name": "python",
   "nbconvert_exporter": "python",
   "pygments_lexer": "ipython3",
   "version": "3.9.12"
  },
  "toc-autonumbering": false,
  "toc-showcode": false,
  "toc-showmarkdowntxt": false
 },
 "nbformat": 4,
 "nbformat_minor": 5
}
