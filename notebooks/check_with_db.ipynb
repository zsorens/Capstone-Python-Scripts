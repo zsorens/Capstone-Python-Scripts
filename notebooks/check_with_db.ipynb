{
 "cells": [
  {
   "cell_type": "markdown",
   "id": "4d4a1922-10a5-47d0-867f-e290715a49cd",
   "metadata": {},
   "source": [
    "### Purpose of this is to try and coincide our pipeline with the permit excel sheet provided"
   ]
  },
  {
   "cell_type": "code",
   "execution_count": 1,
   "id": "4b884b4b-7653-4afe-93b4-3242a1374e59",
   "metadata": {},
   "outputs": [],
   "source": [
    "# Generic\n",
    "import pyodbc\n",
    "import os\n",
    "import sys\n",
    "import pandas as pd\n",
    "\n",
    "os.chdir('../')\n",
    "# Modules\n",
    "import sql\n",
    "import main\n",
    "from store import Store\n",
    "from defaults import *\n",
    "sql.set_up()"
   ]
  },
  {
   "cell_type": "code",
   "execution_count": 2,
   "id": "05dfa5a2-31df-47a4-8918-d6daa38c5db8",
   "metadata": {},
   "outputs": [],
   "source": [
    "active = sql.query(\"SELECT * from v_active\")"
   ]
  },
  {
   "cell_type": "code",
   "execution_count": 3,
   "id": "be62743f-0f15-49d5-b86a-921ac8612aec",
   "metadata": {},
   "outputs": [
    {
     "data": {
      "text/html": [
       "<div>\n",
       "<style scoped>\n",
       "    .dataframe tbody tr th:only-of-type {\n",
       "        vertical-align: middle;\n",
       "    }\n",
       "\n",
       "    .dataframe tbody tr th {\n",
       "        vertical-align: top;\n",
       "    }\n",
       "\n",
       "    .dataframe thead th {\n",
       "        text-align: right;\n",
       "    }\n",
       "</style>\n",
       "<table border=\"1\" class=\"dataframe\">\n",
       "  <thead>\n",
       "    <tr style=\"text-align: right;\">\n",
       "      <th></th>\n",
       "      <th>status</th>\n",
       "      <th>combined_address</th>\n",
       "      <th>zipcode</th>\n",
       "    </tr>\n",
       "  </thead>\n",
       "  <tbody>\n",
       "    <tr>\n",
       "      <th>0</th>\n",
       "      <td>Active</td>\n",
       "      <td>6101 FEGENBUSH LN</td>\n",
       "      <td>40228</td>\n",
       "    </tr>\n",
       "  </tbody>\n",
       "</table>\n",
       "</div>"
      ],
      "text/plain": [
       "   status   combined_address zipcode\n",
       "0  Active  6101 FEGENBUSH LN   40228"
      ]
     },
     "execution_count": 3,
     "metadata": {},
     "output_type": "execute_result"
    }
   ],
   "source": [
    "active.head(1)"
   ]
  },
  {
   "cell_type": "code",
   "execution_count": 9,
   "id": "785d4aac-7076-4352-a4fb-1fb72cd69bc4",
   "metadata": {},
   "outputs": [],
   "source": [
    "# https://stackoverflow.com/questions/29876184/groupby-results-to-dictionary-of-lists\n",
    "# Group by zipcodes\n",
    "groups = active.groupby(by = 'zipcode')['combined_address'].apply(list).to_dict()"
   ]
  },
  {
   "cell_type": "code",
   "execution_count": 11,
   "id": "c8a9d1a5-ba2a-46af-a588-0674bc9cd2e1",
   "metadata": {},
   "outputs": [
    {
     "name": "stdout",
     "output_type": "stream",
     "text": [
      "Looking for ['5929 DR TIMBER RIDGE', '5949 DR TIMBER RIDGE', '6501 LN FOREST COVE', '5900 DR TIMBER RIDGE'] in 40059\n"
     ]
    }
   ],
   "source": [
    "# Get defaults for store_types\n",
    "from defaults import store_types, zipcodes\n",
    "# Pick location to try to find with pipeline\n",
    "p_zipcodes =  list(groups.keys())\n",
    "p_zipcodes.remove('     ') # two addresses don't have zipcodes\n",
    "idx = 0\n",
    "target_zip = p_zipcodes[idx]\n",
    "print(f\"Looking for {groups[target_zip]} in {target_zip}\")\n"
   ]
  },
  {
   "cell_type": "code",
   "execution_count": 13,
   "id": "68d23d3e-884a-4175-99ca-86abe842b995",
   "metadata": {},
   "outputs": [],
   "source": [
    "# Find stores\n",
    "stores = []\n",
    "zipcodes = [target_zip] # commnet for all zipcodes\n",
    "query_types = store_types[:1] # comment  for all store types\n",
    "stores = main.get_stores(zipcodes, query_types, 'streetview_images')\n"
   ]
  },
  {
   "cell_type": "code",
   "execution_count": 17,
   "id": "0705dcfe-2afd-48d9-9aac-d4f176495d90",
   "metadata": {},
   "outputs": [
    {
     "data": {
      "text/plain": [
       "['tobacco']"
      ]
     },
     "execution_count": 17,
     "metadata": {},
     "output_type": "execute_result"
    }
   ],
   "source": [
    "query_types"
   ]
  },
  {
   "cell_type": "code",
   "execution_count": 14,
   "id": "fa6fb160-cb47-4822-b0ab-3423ad53be38",
   "metadata": {},
   "outputs": [
    {
     "name": "stdout",
     "output_type": "stream",
     "text": [
      "{'business_status': 'OPERATIONAL', 'formatted_address': '13206 W U.S. Hwy 42 suite 101, Prospect, KY 40059, United States', 'geometry': {'location': {'lat': 38.3644305, 'lng': -85.60185729999999}, 'viewport': {'northeast': {'lat': 38.36586927989272, 'lng': -85.60035682010728}, 'southwest': {'lat': 38.36316962010727, 'lng': -85.60305647989271}}}, 'icon': 'https://maps.gstatic.com/mapfiles/place_api/icons/v1/png_71/shopping-71.png', 'icon_background_color': '#4B96F3', 'icon_mask_base_uri': 'https://maps.gstatic.com/mapfiles/place_api/icons/v2/shopping_pinlet', 'name': \"TJ's Smoke Outlet\", 'opening_hours': {'open_now': False}, 'photos': [{'height': 4032, 'html_attributions': ['<a href=\"https://maps.google.com/maps/contrib/109474097227940627758\">A Google User</a>'], 'photo_reference': 'AcJnMuFgOcj2MglnWM5cS3hBDKSdInWBnJOuX6USEEaGu8FPry-Ya4txqap_sFeuYHFFnmdYqhU2dOMd8srhPIJXj2_UDfq3iM7E1CogNEExcC8ysYjCF63sS7CvjcWpkgJ0etzNmKYdbpvAgDMEv013pNdnU1BGO7VKIqs17UuEZmMsagKQ', 'width': 3024}], 'place_id': 'ChIJEwwqmwGdaYgR6Yb0XcxHXGM', 'plus_code': {'compound_code': '997X+P7 Prospect, Kentucky', 'global_code': '86CP997X+P7'}, 'rating': 4.8, 'reference': 'ChIJEwwqmwGdaYgR6Yb0XcxHXGM', 'types': ['point_of_interest', 'store', 'establishment'], 'user_ratings_total': 48}\n"
     ]
    }
   ],
   "source": [
    "print(stores[0].place)"
   ]
  },
  {
   "cell_type": "code",
   "execution_count": 15,
   "id": "30605022-2028-41ff-bbd5-d18135cf21af",
   "metadata": {},
   "outputs": [
    {
     "name": "stdout",
     "output_type": "stream",
     "text": [
      "Number of stores pulled through pipeline for zip 40059: 1\n",
      "Found 0 permits of 4 in zipcode 40059\n"
     ]
    }
   ],
   "source": [
    "print(f\"Number of stores pulled through pipeline for zip {target_zip}: {len(stores)}\")\n",
    "found = 0\n",
    "places = [s.place for s in stores]\n",
    "for place in places:\n",
    "    place_add = place['formatted_address'].lower()\n",
    "    #print(place['formatted_address'].lower())\n",
    "    #https://stackoverflow.com/questions/3271478/check-list-of-words-in-another-string\n",
    "    if any(add.lower() in place_add for add in groups[target_zip]):\n",
    "        #print(f\"Found location of store {place} at stores[index] of {places.index(place)}\")\n",
    "        found += 1\n",
    "print(f\"Found {found} permits of {len(groups[target_zip])} in zipcode {target_zip}\")\n",
    "        \n"
   ]
  },
  {
   "cell_type": "markdown",
   "id": "e936c20b-45d3-4230-999c-9518c0048611",
   "metadata": {},
   "source": [
    "# Full Variant"
   ]
  },
  {
   "cell_type": "code",
   "execution_count": 29,
   "id": "743b31c1-ca24-4011-80fe-d56f4463d8eb",
   "metadata": {},
   "outputs": [
    {
     "name": "stdout",
     "output_type": "stream",
     "text": [
      "Our txt file has 1 versus 34 zipcodes on file\n",
      "Error Deleting: stat: path should be string, bytes, os.PathLike or integer, not NoneType\n",
      "Error Deleting: stat: path should be string, bytes, os.PathLike or integer, not NoneType\n",
      "Error Deleting: stat: path should be string, bytes, os.PathLike or integer, not NoneType\n",
      "Error Deleting: stat: path should be string, bytes, os.PathLike or integer, not NoneType\n",
      "Error Deleting: stat: path should be string, bytes, os.PathLike or integer, not NoneType\n",
      "Error Deleting: stat: path should be string, bytes, os.PathLike or integer, not NoneType\n",
      "Error Deleting: stat: path should be string, bytes, os.PathLike or integer, not NoneType\n",
      "Error Deleting: stat: path should be string, bytes, os.PathLike or integer, not NoneType\n",
      "Error Deleting: stat: path should be string, bytes, os.PathLike or integer, not NoneType\n",
      "Error Deleting: stat: path should be string, bytes, os.PathLike or integer, not NoneType\n",
      "Error Deleting: stat: path should be string, bytes, os.PathLike or integer, not NoneType\n",
      "Error Deleting: stat: path should be string, bytes, os.PathLike or integer, not NoneType\n",
      "Error Deleting: stat: path should be string, bytes, os.PathLike or integer, not NoneType\n",
      "Error Deleting: stat: path should be string, bytes, os.PathLike or integer, not NoneType\n",
      "Error Deleting: stat: path should be string, bytes, os.PathLike or integer, not NoneType\n",
      "Error Deleting: stat: path should be string, bytes, os.PathLike or integer, not NoneType\n",
      "Error Deleting: stat: path should be string, bytes, os.PathLike or integer, not NoneType\n",
      "Error Deleting: stat: path should be string, bytes, os.PathLike or integer, not NoneType\n",
      "Error Deleting: stat: path should be string, bytes, os.PathLike or integer, not NoneType\n",
      "Error Deleting: stat: path should be string, bytes, os.PathLike or integer, not NoneType\n",
      "Number of stores pulled through pipeline for zip 40059: 1\n",
      "Found 0 permits of 4 in zipcode 40059\n",
      "Error Deleting: stat: path should be string, bytes, os.PathLike or integer, not NoneType\n",
      "Number of stores pulled through pipeline for zip 40118: 20\n",
      "Found 0 permits of 9 in zipcode 40118\n",
      "Error Deleting: stat: path should be string, bytes, os.PathLike or integer, not NoneType\n",
      "Error Deleting: stat: path should be string, bytes, os.PathLike or integer, not NoneType\n",
      "Error Deleting: stat: path should be string, bytes, os.PathLike or integer, not NoneType\n",
      "Error Deleting: stat: path should be string, bytes, os.PathLike or integer, not NoneType\n",
      "Error Deleting: stat: path should be string, bytes, os.PathLike or integer, not NoneType\n",
      "Error Deleting: stat: path should be string, bytes, os.PathLike or integer, not NoneType\n",
      "Error Deleting: stat: path should be string, bytes, os.PathLike or integer, not NoneType\n",
      "Error Deleting: stat: path should be string, bytes, os.PathLike or integer, not NoneType\n",
      "Error Deleting: stat: path should be string, bytes, os.PathLike or integer, not NoneType\n",
      "Error Deleting: stat: path should be string, bytes, os.PathLike or integer, not NoneType\n",
      "Error Deleting: stat: path should be string, bytes, os.PathLike or integer, not NoneType\n",
      "Error Deleting: stat: path should be string, bytes, os.PathLike or integer, not NoneType\n",
      "Error Deleting: stat: path should be string, bytes, os.PathLike or integer, not NoneType\n",
      "Error Deleting: stat: path should be string, bytes, os.PathLike or integer, not NoneType\n",
      "Error Deleting: stat: path should be string, bytes, os.PathLike or integer, not NoneType\n",
      "Error Deleting: stat: path should be string, bytes, os.PathLike or integer, not NoneType\n",
      "Error Deleting: stat: path should be string, bytes, os.PathLike or integer, not NoneType\n",
      "Error Deleting: stat: path should be string, bytes, os.PathLike or integer, not NoneType\n",
      "Error Deleting: stat: path should be string, bytes, os.PathLike or integer, not NoneType\n",
      "Error Deleting: stat: path should be string, bytes, os.PathLike or integer, not NoneType\n",
      "Number of stores pulled through pipeline for zip 40202: 6\n",
      "Found 0 permits of 15 in zipcode 40202\n",
      "Error Deleting: stat: path should be string, bytes, os.PathLike or integer, not NoneType\n",
      "Error Deleting: stat: path should be string, bytes, os.PathLike or integer, not NoneType\n",
      "Error Deleting: stat: path should be string, bytes, os.PathLike or integer, not NoneType\n",
      "Error Deleting: stat: path should be string, bytes, os.PathLike or integer, not NoneType\n",
      "Error Deleting: stat: path should be string, bytes, os.PathLike or integer, not NoneType\n",
      "Error Deleting: stat: path should be string, bytes, os.PathLike or integer, not NoneType\n",
      "Number of stores pulled through pipeline for zip 40203: 20\n",
      "Found 0 permits of 33 in zipcode 40203\n",
      "Error Deleting: stat: path should be string, bytes, os.PathLike or integer, not NoneType\n",
      "Error Deleting: stat: path should be string, bytes, os.PathLike or integer, not NoneType\n",
      "Error Deleting: stat: path should be string, bytes, os.PathLike or integer, not NoneType\n",
      "Error Deleting: stat: path should be string, bytes, os.PathLike or integer, not NoneType\n",
      "Error Deleting: stat: path should be string, bytes, os.PathLike or integer, not NoneType\n",
      "Error Deleting: stat: path should be string, bytes, os.PathLike or integer, not NoneType\n",
      "Error Deleting: stat: path should be string, bytes, os.PathLike or integer, not NoneType\n",
      "Error Deleting: stat: path should be string, bytes, os.PathLike or integer, not NoneType\n",
      "Error Deleting: stat: path should be string, bytes, os.PathLike or integer, not NoneType\n",
      "Error Deleting: stat: path should be string, bytes, os.PathLike or integer, not NoneType\n",
      "Error Deleting: stat: path should be string, bytes, os.PathLike or integer, not NoneType\n",
      "Error Deleting: stat: path should be string, bytes, os.PathLike or integer, not NoneType\n",
      "Error Deleting: stat: path should be string, bytes, os.PathLike or integer, not NoneType\n",
      "Error Deleting: stat: path should be string, bytes, os.PathLike or integer, not NoneType\n",
      "Error Deleting: stat: path should be string, bytes, os.PathLike or integer, not NoneType\n",
      "Error Deleting: stat: path should be string, bytes, os.PathLike or integer, not NoneType\n",
      "Error Deleting: stat: path should be string, bytes, os.PathLike or integer, not NoneType\n",
      "Error Deleting: stat: path should be string, bytes, os.PathLike or integer, not NoneType\n",
      "Error Deleting: stat: path should be string, bytes, os.PathLike or integer, not NoneType\n",
      "Error Deleting: stat: path should be string, bytes, os.PathLike or integer, not NoneType\n",
      "Number of stores pulled through pipeline for zip 40204: 20\n",
      "Found 0 permits of 19 in zipcode 40204\n",
      "Error Deleting: stat: path should be string, bytes, os.PathLike or integer, not NoneType\n",
      "Error Deleting: stat: path should be string, bytes, os.PathLike or integer, not NoneType\n",
      "Error Deleting: stat: path should be string, bytes, os.PathLike or integer, not NoneType\n",
      "Error Deleting: stat: path should be string, bytes, os.PathLike or integer, not NoneType\n",
      "Error Deleting: stat: path should be string, bytes, os.PathLike or integer, not NoneType\n",
      "Error Deleting: stat: path should be string, bytes, os.PathLike or integer, not NoneType\n",
      "Error Deleting: stat: path should be string, bytes, os.PathLike or integer, not NoneType\n",
      "Error Deleting: stat: path should be string, bytes, os.PathLike or integer, not NoneType\n",
      "Error Deleting: stat: path should be string, bytes, os.PathLike or integer, not NoneType\n",
      "Error Deleting: stat: path should be string, bytes, os.PathLike or integer, not NoneType\n",
      "Error Deleting: stat: path should be string, bytes, os.PathLike or integer, not NoneType\n",
      "Error Deleting: stat: path should be string, bytes, os.PathLike or integer, not NoneType\n",
      "Error Deleting: stat: path should be string, bytes, os.PathLike or integer, not NoneType\n",
      "Error Deleting: stat: path should be string, bytes, os.PathLike or integer, not NoneType\n",
      "Error Deleting: stat: path should be string, bytes, os.PathLike or integer, not NoneType\n",
      "Error Deleting: stat: path should be string, bytes, os.PathLike or integer, not NoneType\n",
      "Error Deleting: stat: path should be string, bytes, os.PathLike or integer, not NoneType\n",
      "Error Deleting: stat: path should be string, bytes, os.PathLike or integer, not NoneType\n",
      "Error Deleting: stat: path should be string, bytes, os.PathLike or integer, not NoneType\n",
      "Error Deleting: stat: path should be string, bytes, os.PathLike or integer, not NoneType\n",
      "Number of stores pulled through pipeline for zip 40205: 20\n",
      "Found 0 permits of 17 in zipcode 40205\n",
      "Error Deleting: stat: path should be string, bytes, os.PathLike or integer, not NoneType\n",
      "Error Deleting: stat: path should be string, bytes, os.PathLike or integer, not NoneType\n",
      "Error Deleting: stat: path should be string, bytes, os.PathLike or integer, not NoneType\n",
      "Error Deleting: stat: path should be string, bytes, os.PathLike or integer, not NoneType\n",
      "Error Deleting: stat: path should be string, bytes, os.PathLike or integer, not NoneType\n",
      "Error Deleting: stat: path should be string, bytes, os.PathLike or integer, not NoneType\n",
      "Error Deleting: stat: path should be string, bytes, os.PathLike or integer, not NoneType\n",
      "Error Deleting: stat: path should be string, bytes, os.PathLike or integer, not NoneType\n",
      "Error Deleting: stat: path should be string, bytes, os.PathLike or integer, not NoneType\n",
      "Error Deleting: stat: path should be string, bytes, os.PathLike or integer, not NoneType\n",
      "Error Deleting: stat: path should be string, bytes, os.PathLike or integer, not NoneType\n",
      "Error Deleting: stat: path should be string, bytes, os.PathLike or integer, not NoneType\n",
      "Error Deleting: stat: path should be string, bytes, os.PathLike or integer, not NoneType\n",
      "Error Deleting: stat: path should be string, bytes, os.PathLike or integer, not NoneType\n",
      "Error Deleting: stat: path should be string, bytes, os.PathLike or integer, not NoneType\n",
      "Error Deleting: stat: path should be string, bytes, os.PathLike or integer, not NoneType\n",
      "Error Deleting: stat: path should be string, bytes, os.PathLike or integer, not NoneType\n",
      "Error Deleting: stat: path should be string, bytes, os.PathLike or integer, not NoneType\n",
      "Error Deleting: stat: path should be string, bytes, os.PathLike or integer, not NoneType\n",
      "Error Deleting: stat: path should be string, bytes, os.PathLike or integer, not NoneType\n",
      "Number of stores pulled through pipeline for zip 40206: 20\n",
      "Found 0 permits of 20 in zipcode 40206\n",
      "Error Deleting: stat: path should be string, bytes, os.PathLike or integer, not NoneType\n",
      "Error Deleting: stat: path should be string, bytes, os.PathLike or integer, not NoneType\n",
      "Error Deleting: stat: path should be string, bytes, os.PathLike or integer, not NoneType\n",
      "Error Deleting: stat: path should be string, bytes, os.PathLike or integer, not NoneType\n",
      "Error Deleting: stat: path should be string, bytes, os.PathLike or integer, not NoneType\n",
      "Error Deleting: stat: path should be string, bytes, os.PathLike or integer, not NoneType\n",
      "Error Deleting: stat: path should be string, bytes, os.PathLike or integer, not NoneType\n",
      "Error Deleting: stat: path should be string, bytes, os.PathLike or integer, not NoneType\n",
      "Error Deleting: stat: path should be string, bytes, os.PathLike or integer, not NoneType\n",
      "Error Deleting: stat: path should be string, bytes, os.PathLike or integer, not NoneType\n",
      "Error Deleting: stat: path should be string, bytes, os.PathLike or integer, not NoneType\n",
      "Error Deleting: stat: path should be string, bytes, os.PathLike or integer, not NoneType\n",
      "Error Deleting: stat: path should be string, bytes, os.PathLike or integer, not NoneType\n",
      "Error Deleting: stat: path should be string, bytes, os.PathLike or integer, not NoneType\n",
      "Error Deleting: stat: path should be string, bytes, os.PathLike or integer, not NoneType\n",
      "Error Deleting: stat: path should be string, bytes, os.PathLike or integer, not NoneType\n",
      "Error Deleting: stat: path should be string, bytes, os.PathLike or integer, not NoneType\n",
      "Error Deleting: stat: path should be string, bytes, os.PathLike or integer, not NoneType\n",
      "Error Deleting: stat: path should be string, bytes, os.PathLike or integer, not NoneType\n",
      "Error Deleting: stat: path should be string, bytes, os.PathLike or integer, not NoneType\n",
      "Number of stores pulled through pipeline for zip 40207: 20\n",
      "Found 0 permits of 21 in zipcode 40207\n",
      "Error Deleting: stat: path should be string, bytes, os.PathLike or integer, not NoneType\n",
      "Error Deleting: stat: path should be string, bytes, os.PathLike or integer, not NoneType\n",
      "Error Deleting: stat: path should be string, bytes, os.PathLike or integer, not NoneType\n",
      "Error Deleting: stat: path should be string, bytes, os.PathLike or integer, not NoneType\n",
      "Error Deleting: stat: path should be string, bytes, os.PathLike or integer, not NoneType\n",
      "Error Deleting: stat: path should be string, bytes, os.PathLike or integer, not NoneType\n",
      "Error Deleting: stat: path should be string, bytes, os.PathLike or integer, not NoneType\n",
      "Error Deleting: stat: path should be string, bytes, os.PathLike or integer, not NoneType\n",
      "Error Deleting: stat: path should be string, bytes, os.PathLike or integer, not NoneType\n",
      "Error Deleting: stat: path should be string, bytes, os.PathLike or integer, not NoneType\n",
      "Error Deleting: stat: path should be string, bytes, os.PathLike or integer, not NoneType\n",
      "Error Deleting: stat: path should be string, bytes, os.PathLike or integer, not NoneType\n",
      "Error Deleting: stat: path should be string, bytes, os.PathLike or integer, not NoneType\n",
      "Error Deleting: stat: path should be string, bytes, os.PathLike or integer, not NoneType\n",
      "Error Deleting: stat: path should be string, bytes, os.PathLike or integer, not NoneType\n",
      "Error Deleting: stat: path should be string, bytes, os.PathLike or integer, not NoneType\n",
      "Error Deleting: stat: path should be string, bytes, os.PathLike or integer, not NoneType\n",
      "Error Deleting: stat: path should be string, bytes, os.PathLike or integer, not NoneType\n",
      "Error Deleting: stat: path should be string, bytes, os.PathLike or integer, not NoneType\n",
      "Error Deleting: stat: path should be string, bytes, os.PathLike or integer, not NoneType\n",
      "Number of stores pulled through pipeline for zip 40208: 20\n",
      "Found 0 permits of 26 in zipcode 40208\n",
      "Error Deleting: stat: path should be string, bytes, os.PathLike or integer, not NoneType\n",
      "Error Deleting: stat: path should be string, bytes, os.PathLike or integer, not NoneType\n",
      "Error Deleting: stat: path should be string, bytes, os.PathLike or integer, not NoneType\n",
      "Error Deleting: stat: path should be string, bytes, os.PathLike or integer, not NoneType\n",
      "Error Deleting: stat: path should be string, bytes, os.PathLike or integer, not NoneType\n",
      "Error Deleting: stat: path should be string, bytes, os.PathLike or integer, not NoneType\n",
      "Error Deleting: stat: path should be string, bytes, os.PathLike or integer, not NoneType\n",
      "Error Deleting: stat: path should be string, bytes, os.PathLike or integer, not NoneType\n",
      "Error Deleting: stat: path should be string, bytes, os.PathLike or integer, not NoneType\n",
      "Error Deleting: stat: path should be string, bytes, os.PathLike or integer, not NoneType\n",
      "Error Deleting: stat: path should be string, bytes, os.PathLike or integer, not NoneType\n",
      "Error Deleting: stat: path should be string, bytes, os.PathLike or integer, not NoneType\n",
      "Error Deleting: stat: path should be string, bytes, os.PathLike or integer, not NoneType\n",
      "Error Deleting: stat: path should be string, bytes, os.PathLike or integer, not NoneType\n",
      "Error Deleting: stat: path should be string, bytes, os.PathLike or integer, not NoneType\n",
      "Error Deleting: stat: path should be string, bytes, os.PathLike or integer, not NoneType\n",
      "Error Deleting: stat: path should be string, bytes, os.PathLike or integer, not NoneType\n",
      "Error Deleting: stat: path should be string, bytes, os.PathLike or integer, not NoneType\n",
      "Error Deleting: stat: path should be string, bytes, os.PathLike or integer, not NoneType\n",
      "Error Deleting: stat: path should be string, bytes, os.PathLike or integer, not NoneType\n",
      "Number of stores pulled through pipeline for zip 40209: 20\n",
      "Found 0 permits of 5 in zipcode 40209\n"
     ]
    }
   ],
   "source": [
    "print(f\"Our txt file has {len(zipcodes)} versus {len(groups.keys())} zipcodes on file\")\n",
    "found_places = {}\n",
    "iterations = 10\n",
    "for target_zip in p_zipcodes: #list(groups.keys())[1:] -L> has empty first so if you do anything you need to list[1:]\n",
    "    #print(f\"Looking for {groups[target_zip]} in {target_zip}\")\n",
    "    stores = main.get_stores(target_zip, store_types, 'streetview_images')\n",
    "    \n",
    "    print(f\"Number of stores pulled through pipeline for zip {target_zip}: {len(stores)}\")\n",
    "    found = 0\n",
    "    places = [s.place for s in stores]\n",
    "    places_address = set([p['formatted_address'].lower() for p in places])\n",
    "    for place_add in places_address:\n",
    "        #print(place['formatted_address'].lower())\n",
    "        #https://stackoverflow.com/questions/3271478/check-list-of-words-in-another-string\n",
    "        if any(add.lower() in place_add for add in groups[target_zip]):\n",
    "            #print(f\"Found location of store {place} at stores[index] of {places.index(place)}\")\n",
    "            found += 1\n",
    "    print(f\"Found {found} permits of {len(groups[target_zip])} in zipcode {target_zip}\")\n",
    "    \n",
    "    iterations -= 1\n",
    "    if iterations == 0: break"
   ]
  },
  {
   "cell_type": "code",
   "execution_count": 153,
   "id": "eda5bbe7-82b1-4507-97f5-f0f6e1002122",
   "metadata": {},
   "outputs": [],
   "source": [
    "places_address = [p['formatted_address'] for p in places]"
   ]
  },
  {
   "cell_type": "code",
   "execution_count": 25,
   "id": "6bbdf365-71df-49a9-915c-b845f2d6b194",
   "metadata": {},
   "outputs": [
    {
     "data": {
      "text/plain": [
       "['937 LN PHILLIPS',\n",
       " '4309 DR CRITTENDEN',\n",
       " '1016 LN PHILLIPS',\n",
       " '4300 DR CRITTENDEN',\n",
       " '2704 DR CRITTENDEN']"
      ]
     },
     "execution_count": 25,
     "metadata": {},
     "output_type": "execute_result"
    }
   ],
   "source": [
    "groups[target_zip]"
   ]
  },
  {
   "cell_type": "code",
   "execution_count": 26,
   "id": "24f10e35-a3e3-4b0a-ba80-b4ec9f10fcf9",
   "metadata": {},
   "outputs": [
    {
     "data": {
      "text/plain": [
       "{'1102 algonquin pkwy, louisville, ky 40208, united states',\n",
       " '2204 heather ln, louisville, ky 40218, united states',\n",
       " '2221 crittenden dr, louisville, ky 40217, united states',\n",
       " '2911 preston hwy a, louisville, ky 40217, united states',\n",
       " '3022 s 3rd st, louisville, ky 40208, united states',\n",
       " '3137 s 2nd st, louisville, ky 40208, united states',\n",
       " '3210 preston hwy, louisville, ky 40213, united states',\n",
       " '3337 newburg rd, louisville, ky 40218, united states',\n",
       " '346 e lee st, louisville, ky 40208, united states',\n",
       " '3945 s 3rd st, louisville, ky 40214, united states',\n",
       " '4017 preston hwy, louisville, ky 40213, united states',\n",
       " '427 warnock st, louisville, ky 40217, united states',\n",
       " '4537 poplar level rd, louisville, ky 40213, united states',\n",
       " '5013 preston hwy, louisville, ky 40213, united states',\n",
       " '5330 s 3rd st #101, louisville, ky 40214, united states',\n",
       " '5400 preston hwy b1, louisville, ky 40213, united states',\n",
       " '5401 indian oaks cir, louisville, ky 40219, united states',\n",
       " '5520 fern valley rd, louisville, ky 40228, united states',\n",
       " '6711 strawberry ln, louisville, ky 40214, united states',\n",
       " '802 w kenwood dr, louisville, ky 40214, united states'}"
      ]
     },
     "execution_count": 26,
     "metadata": {},
     "output_type": "execute_result"
    }
   ],
   "source": [
    "places_address"
   ]
  }
 ],
 "metadata": {
  "kernelspec": {
   "display_name": "Python 3 (ipykernel)",
   "language": "python",
   "name": "python3"
  },
  "language_info": {
   "codemirror_mode": {
    "name": "ipython",
    "version": 3
   },
   "file_extension": ".py",
   "mimetype": "text/x-python",
   "name": "python",
   "nbconvert_exporter": "python",
   "pygments_lexer": "ipython3",
   "version": "3.9.12"
  }
 },
 "nbformat": 4,
 "nbformat_minor": 5
}
